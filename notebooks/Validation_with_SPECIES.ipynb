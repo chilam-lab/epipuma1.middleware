{
 "cells": [
  {
   "cell_type": "markdown",
   "metadata": {
    "toc": "true"
   },
   "source": [
    "# Table of Contents\n",
    " <p><div class=\"lev1 toc-item\"><a href=\"#Objetivo\" data-toc-modified-id=\"Objetivo-1\"><span class=\"toc-item-num\">1&nbsp;&nbsp;</span>Objetivo</a></div><div class=\"lev1 toc-item\"><a href=\"#Metodología\" data-toc-modified-id=\"Metodología-2\"><span class=\"toc-item-num\">2&nbsp;&nbsp;</span>Metodología</a></div><div class=\"lev1 toc-item\"><a href=\"#Definición-de-funciones-(estas-luego-estarán-en-un-script)\" data-toc-modified-id=\"Definición-de-funciones-(estas-luego-estarán-en-un-script)-3\"><span class=\"toc-item-num\">3&nbsp;&nbsp;</span>Definición de funciones (estas luego estarán en un script)</a></div><div class=\"lev1 toc-item\"><a href=\"#Prueba-de-método:-lo-aplicamos-a-una-especie\" data-toc-modified-id=\"Prueba-de-método:-lo-aplicamos-a-una-especie-4\"><span class=\"toc-item-num\">4&nbsp;&nbsp;</span>Prueba de método: lo aplicamos a una especie</a></div><div class=\"lev2 toc-item\"><a href=\"#Get-cells-for-the-selected-species\" data-toc-modified-id=\"Get-cells-for-the-selected-species-41\"><span class=\"toc-item-num\">4.1&nbsp;&nbsp;</span>Get cells for the selected species</a></div><div class=\"lev2 toc-item\"><a href=\"#Get-cell-scores\" data-toc-modified-id=\"Get-cell-scores-42\"><span class=\"toc-item-num\">4.2&nbsp;&nbsp;</span>Get cell scores</a></div><div class=\"lev2 toc-item\"><a href=\"#De-los-resultados-seleccionamos-solo-las-celdas-que-ocupa-la-especie\" data-toc-modified-id=\"De-los-resultados-seleccionamos-solo-las-celdas-que-ocupa-la-especie-43\"><span class=\"toc-item-num\">4.3&nbsp;&nbsp;</span>De los resultados seleccionamos solo las celdas que ocupa la especie</a></div><div class=\"lev2 toc-item\"><a href=\"#Prueba-considerando-sólo-celdas-ocupadas-por-al-menos-una-especie-del-grupo-de-covariables\" data-toc-modified-id=\"Prueba-considerando-sólo-celdas-ocupadas-por-al-menos-una-especie-del-grupo-de-covariables-44\"><span class=\"toc-item-num\">4.4&nbsp;&nbsp;</span>Prueba considerando sólo celdas ocupadas por al menos una especie del grupo de covariables</a></div><div class=\"lev1 toc-item\"><a href=\"#Aplicar-el-método-para-todos-los-mamíferos\" data-toc-modified-id=\"Aplicar-el-método-para-todos-los-mamíferos-5\"><span class=\"toc-item-num\">5&nbsp;&nbsp;</span>Aplicar el método para todos los mamíferos</a></div><div class=\"lev2 toc-item\"><a href=\"#Get-the-most-suspicious-observations\" data-toc-modified-id=\"Get-the-most-suspicious-observations-51\"><span class=\"toc-item-num\">5.1&nbsp;&nbsp;</span>Get the most suspicious observations</a></div><div class=\"lev2 toc-item\"><a href=\"#Get-the-most-problematic-species\" data-toc-modified-id=\"Get-the-most-problematic-species-52\"><span class=\"toc-item-num\">5.2&nbsp;&nbsp;</span>Get the most problematic species</a></div><div class=\"lev1 toc-item\"><a href=\"#Por-hacer\" data-toc-modified-id=\"Por-hacer-6\"><span class=\"toc-item-num\">6&nbsp;&nbsp;</span>Por hacer</a></div><div class=\"lev1 toc-item\"><a href=\"#Notas\" data-toc-modified-id=\"Notas-7\"><span class=\"toc-item-num\">7&nbsp;&nbsp;</span>Notas</a></div>"
   ]
  },
  {
   "cell_type": "markdown",
   "metadata": {},
   "source": [
    "# Objetivo\n",
    "\n",
    "Evaluar si un registro de ejemplar tiene coordenadas raras (o sea que se alejan de lo que se observa para los otros registros de la misma especie). Si esto funciona podríamos acelerar el proceso de validación geográfica de datos. \n",
    "\n",
    "# Metodología\n",
    "\n",
    "* Construir un modelo de distribución potencial para cada especie y marcar registros que caen en celdas con score negativo\n",
    "* Para calcular el score utilizaremos todo la información disponible (todas las especies del SNIB que tengan más de 10 registros, y capas climáticas) \n",
    "* El modelo lo calculamos usando sólo las celdas que tiene al menos un registro en el SNIB (podríamos ser más estrictos y pedir al menos k > 1 registros) "
   ]
  },
  {
   "cell_type": "markdown",
   "metadata": {},
   "source": [
    "# Definición de funciones (estas luego estarán en un script)\n",
    "En esta sección definimos algunas funciones que necesitamos a lo largo del notebook"
   ]
  },
  {
   "cell_type": "code",
   "execution_count": null,
   "metadata": {
    "collapsed": true
   },
   "outputs": [],
   "source": [
    "# Load libraries\n",
    "from __future__ import print_function\n",
    "from __future__ import division\n",
    "\n",
    "import requests\n",
    "import json\n",
    "import pandas as pd\n",
    "\n",
    "import folium\n",
    "import folium.plugins\n",
    "import os\n",
    "\n",
    "import math"
   ]
  },
  {
   "cell_type": "markdown",
   "metadata": {},
   "source": [
    "Las constantes API_NICHE_URL y API_TAXA_URL definen el URL de los endpoints que vamos a usar. El pirmero tiene todas los servicios para obtener los scores y las celdas de las especies, y el segundo tiene servicios para obtener información taxonómica."
   ]
  },
  {
   "cell_type": "code",
   "execution_count": null,
   "metadata": {
    "collapsed": true
   },
   "outputs": [],
   "source": [
    "# URL of SPECIES 1.0 API\n",
    "# API_NICHE_URL = u'http://species.conabio.gob.mx/api-rc/niche'\n",
    "API_NICHE_URL = u'http://localhost:8080/niche'\n",
    "API_TAXA_URL = u'http://localhost:8080/taxa'"
   ]
  },
  {
   "cell_type": "code",
   "execution_count": null,
   "metadata": {
    "collapsed": true
   },
   "outputs": [],
   "source": [
    "def get_species_data(api_url, name, analysis_res=16):\n",
    "    \"\"\" Regresa un dataframe con la información taxonomica de una especie y su id en la base de datos  \"\"\"\n",
    "    query = {\n",
    "        \"qtype\":\"getEntList\",\n",
    "        \"searchStr\":name, # Nombre de la especie substring de la especie a buscar\n",
    "        \"nivel\":\"especievalidabusqueda\",\n",
    "        \"source\":1,\n",
    "        \"res_celda_sp\":\"cells_{}km\".format(analysis_res),\n",
    "        \"res_celda_snib\":\"gridid_{}km\".format(analysis_res),\n",
    "        \"res_celda_snib_tb\":\"grid_{}km_aoi\".format(analysis_res)\n",
    "    }\n",
    "    r = requests.post(api_url+'/especie', params=query)\n",
    "\n",
    "    response = json.loads(r.content)\n",
    "    return pd.DataFrame(response['data'])"
   ]
  },
  {
   "cell_type": "code",
   "execution_count": null,
   "metadata": {
    "collapsed": true
   },
   "outputs": [],
   "source": [
    "def get_taxon_cells(tax_level, tax_name, grid_res, api_url, fossil=False, sfecha=False):\n",
    "    \"\"\" Regresa un dataframe con las celdas ocupadas por el taxon especificado.\n",
    "    \n",
    "    Keyword arguments:\n",
    "    tax_level -- Nivel taxonomico del taxon, por ejemplo, 'clasevalida' (actualmente está amarrado a los nombres en la base de datos)\n",
    "    tax_name -- Nombre del taxon, por ejemplo, 'Mammalia'\n",
    "    grid_res -- La resolución del grid del que queremos obtener las celdas\n",
    "    api_url -- El URL del endpoint\n",
    "    \"\"\"\n",
    "    query = {\n",
    "        \"tax_level\": tax_level,\n",
    "        \"tax_name\": tax_name,\n",
    "        \"cells_res\": grid_res,\n",
    "        \"sfecha\": str(sfecha).lower(),\n",
    "        \"fossil\": str(fossil).lower()\n",
    "    }\n",
    "    \n",
    "    r = requests.post(api_url+'/cells', params=query)\n",
    "\n",
    "    response = json.loads(r.content)\n",
    "    return pd.DataFrame(response['data'])"
   ]
  },
  {
   "cell_type": "code",
   "execution_count": null,
   "metadata": {
    "collapsed": true
   },
   "outputs": [],
   "source": [
    "# No está funcionando la especificación de resolución de grid\n",
    "def get_sp_points(spid, analysis_res=16):\n",
    "    \"\"\" Regresa los registros que se tienen de una especie \"\"\"\n",
    "    query = {\n",
    "        \"qtype\": \"getSpecies\",\n",
    "        \"id\": spid,\n",
    "        \"sfecha\": 'false',\n",
    "        \"fossil\": 'false',\n",
    "        \"res_celda_sp\":\"cells_{}km\".format(analysis_res),\n",
    "        \"res_celda_snib\":\"gridid_{}km\".format(analysis_res),\n",
    "        \"res_celda_snib_tb\":\"grid_{}km_aoi\".format(analysis_res)\n",
    "    }\n",
    "\n",
    "    r = requests.post(API_NICHE_URL+'/especie', params=query)\n",
    "    response = json.loads(r.content)\n",
    "    obs_data = response['data']\n",
    "    return pd.DataFrame(obs_data)\n"
   ]
  },
  {
   "cell_type": "code",
   "execution_count": null,
   "metadata": {
    "collapsed": true
   },
   "outputs": [],
   "source": [
    "def get_biogroup_scores(api_url, spid, analysis_res, group_level, group_name, min_occ = 50, fossil=False, nodate=False):\n",
    "    \"\"\" Para la especie especificada regresa los scores de todas las especies del grupo taxonomico dado \"\"\"\n",
    "    query = {\n",
    "        \"qtype\":\"getGeoRel\", \n",
    "        \"id\": spid,\n",
    "        \"res_celda_sp\":\"cells_{}km\".format(analysis_res),\n",
    "        \"res_celda_snib\":\"gridid_{}km\".format(analysis_res),\n",
    "        \"res_celda_snib_tb\":\"grid_{}km_aoi\".format(analysis_res),\n",
    "        \"tfilters[0][field]\": group_level,\n",
    "        \"tfilters[0][value]\": group_name,\n",
    "        \"tfilters[0][type]\": 4,\n",
    "        \"hasBios\":\"true\",\n",
    "        \"hasRaster\":\"false\",\n",
    "        \"sfecha\": 'false',\n",
    "        \"fossil\": 'false',\n",
    "        \"min_occ\": min_occ\n",
    "    }\n",
    "    r = requests.post(api_url+'/getGeoRel', params=query)\n",
    "    response = json.loads(r.content)\n",
    "    df = pd.DataFrame(response['data'])\n",
    "    \n",
    "    \n",
    "    return df.apply(pd.to_numeric, errors='ignore')"
   ]
  },
  {
   "cell_type": "code",
   "execution_count": null,
   "metadata": {
    "collapsed": true
   },
   "outputs": [],
   "source": [
    "def get_cells_bioscores(api_url, spid, group_level, group_name, analysis_res, min_occ):\n",
    "    \"\"\" Regresa los scores de todas las celdas usando el grupo taxonómico especificado \"\"\"\n",
    "    ftype = 4\n",
    "    score_name = \"{}_score\".format(group_name)\n",
    "    obs_data = True\n",
    "    rast_data = False\n",
    "    \n",
    "    print(spid)\n",
    "    query = {\n",
    "            \"qtype\":\"getMapScoreCeldaDecil\", \n",
    "            \"id\": spid,\n",
    "            \"idreg\":\"Estados\",\n",
    "            \"idtime\": 1506389557454,\n",
    "            \"fossil\": False,\n",
    "            \"sfecha\": False,\n",
    "            \"apriori\": '',\n",
    "            \"discardedDateFilterids\": True,\n",
    "            \"val_process\": False,\n",
    "            \"idtabla\":\"no_table\",\n",
    "            \"res_celda_sp\":\"cells_{}km\".format(analysis_res),\n",
    "            \"res_celda_snib\":\"gridid_{}km\".format(analysis_res),\n",
    "            \"res_celda_snib_tb\":\"grid_{}km_aoi\".format(analysis_res),\n",
    "            \"tfilters[0][field]\": group_level,\n",
    "            \"tfilters[0][value]\": group_name,\n",
    "            \"tfilters[0][type]\": ftype,\n",
    "            \"hasBios\": str(obs_data).lower(),\n",
    "            \"hasRaster\": str(rast_data).lower(),\n",
    "            \"min_occ\": min_occ\n",
    "    }\n",
    "\n",
    "    r = requests.post(API_NICHE_URL+'/getCellScore', params=query)\n",
    "    response = json.loads(r.content)\n",
    "\n",
    "    if response.has_key('data'):\n",
    "        df = pd.DataFrame(response['data'])\n",
    "        df.rename(columns={'tscore':score_name}, inplace=True)\n",
    "\n",
    "        return df.apply(pd.to_numeric, errors='ignore')\n",
    "    \n",
    "\n",
    "    return pd.DataFrame()"
   ]
  },
  {
   "cell_type": "code",
   "execution_count": null,
   "metadata": {
    "collapsed": true
   },
   "outputs": [],
   "source": [
    "def get_cells_bioscores_var_n(api_url, spid, group_level, group_name, analysis_res, min_occ):\n",
    "    \"\"\" Regresa los scores de todas las celdas usando el grupo taxonómico especificado \"\"\"\n",
    "    ftype = 4\n",
    "    score_name = \"{}_score\".format(group_name)\n",
    "    obs_data = True\n",
    "    rast_data = False\n",
    "    \n",
    "    print(spid)\n",
    "    query = {\n",
    "            \"qtype\":\"getMapScoreCeldaDecil\", \n",
    "            \"sp_id\": spid,\n",
    "            \"idreg\":\"Estados\",\n",
    "            \"idtime\": 1506389557454,\n",
    "            \"fossil\": False,\n",
    "            \"sfecha\": False,\n",
    "            \"apriori\": 'apriori',\n",
    "            \"discardedDateFilterids\": True,\n",
    "            \"val_process\": False,\n",
    "            \"idtabla\":\"no_table\",\n",
    "            \"cells_res\": analysis_res,\n",
    "            \"tfilters[0][field]\": group_level,\n",
    "            \"tfilters[0][value]\": group_name,\n",
    "            \"tfilters[0][type]\": ftype,\n",
    "            \"covar_tax_level\": group_level,\n",
    "            \"covar_tax_name\": group_name,\n",
    "            \"hasBios\": str(obs_data).lower(),\n",
    "            \"hasRaster\": str(rast_data).lower(),\n",
    "            \"min_occ\": min_occ,\n",
    "            \"n_grid_coverage\": 'species_coverage'\n",
    "    }\n",
    "\n",
    "    r = requests.post(API_NICHE_URL+'/grid_scores', params=query)\n",
    "    response = json.loads(r.content)    \n",
    "\n",
    "    return response"
   ]
  },
  {
   "cell_type": "code",
   "execution_count": null,
   "metadata": {
    "collapsed": true
   },
   "outputs": [],
   "source": [
    "def get_bio_scores_var_n(api_url, spid, group_level, group_name, analysis_res, min_occ):\n",
    "    \"\"\" Regresa los scores de todas las especies ajustando la n segun la cobertura del grupo taxonómico especificado \"\"\"\n",
    "\n",
    "    print(spid)\n",
    "    query = {\n",
    "            \"sp_id\": spid,\n",
    "            \"cells_res\": analysis_res,\n",
    "            \"covar_tax_level\": group_level,\n",
    "            \"covar_tax_name\": group_name,\n",
    "            \"min_occ\": min_occ,\n",
    "            \"n_grid_coverage\": 'species_coverage'\n",
    "    }\n",
    "\n",
    "    r = requests.post(API_NICHE_URL+'/bio_scores', params=query)\n",
    "    response = json.loads(r.content)    \n",
    "\n",
    "    return response"
   ]
  },
  {
   "cell_type": "code",
   "execution_count": null,
   "metadata": {
    "collapsed": true
   },
   "outputs": [],
   "source": [
    "def get_all_species_cell_scores(sps_ids, analysis_res, covar_group_level, covar_group_name, min_occ, api):\n",
    "    \n",
    "    while not sps_ids.empty():\n",
    "        sp_id = sps_ids.pop()\n",
    "        \n",
    "        try:\n",
    "            # get all cells occupied by the current species\n",
    "            cells_df = get_cells(API_NICHE_URL, sp_id, analysis_res)\n",
    "            # get all cell scores for the species\n",
    "\n",
    "            if not cells_df.empty and len(cells_df) >= 5:\n",
    "                cells_scores = get_cells_bioscores(API_NICHE_URL,\n",
    "                                                   sp_id, group_level, group_name, analysis_res, min_occ)\n",
    "\n",
    "                if not cells_scores.empty:\n",
    "                    count = count + 1\n",
    "                    print(count)\n",
    "\n",
    "                    # keep only the cells that the species' registers occupies\n",
    "                    cells_scores = cells_scores[cells_scores['gridid'].isin(cells_df['cell_id'])]\n",
    "                    registers_evals[sp_id] = cells_scores\n",
    "        except ConnectionError as err:\n",
    "            print(err)\n",
    "            remaining_ids = set(sps_ids) - set(registers_evals.keys())\n",
    "            get_all_species_cell_scores(remaining_ids, analysis_res, covar_group_level, covar_group_name, min_occ, api)\n",
    "    return registers_evals"
   ]
  },
  {
   "cell_type": "code",
   "execution_count": null,
   "metadata": {
    "collapsed": true
   },
   "outputs": [],
   "source": [
    "def get_data_from_id(api_url, spid):\n",
    "    r = requests.get(\"{}/{}\".format(API_TAXA_URL, spid))\n",
    "    response = json.loads(r.content)\n",
    "\n",
    "    return pd.DataFrame([response])"
   ]
  },
  {
   "cell_type": "code",
   "execution_count": null,
   "metadata": {
    "collapsed": true
   },
   "outputs": [],
   "source": [
    "# Get all mammal species\n",
    "\n",
    "def get_children(root_level, root_name, child_level, api_url):\n",
    "    query = {\n",
    "        \"root_level\":root_level,\n",
    "        \"root_name\":root_name, # Nombre de la especie substring de la especie a buscar\n",
    "        \"child_level\":child_level,\n",
    "    }\n",
    "    r = requests.post(api_url+'/children', params=query)\n",
    "\n",
    "    response = json.loads(r.content)\n",
    "\n",
    "    return pd.DataFrame(response['data'])"
   ]
  },
  {
   "cell_type": "code",
   "execution_count": null,
   "metadata": {
    "collapsed": true
   },
   "outputs": [],
   "source": [
    "def get_species_name(sp_id, api_url):\n",
    "    r = requests.get(api_url+'/{}'.format(sp_id))\n",
    "\n",
    "    response = json.loads(r.content)\n",
    "\n",
    "    return response['valid_name']"
   ]
  },
  {
   "cell_type": "code",
   "execution_count": null,
   "metadata": {
    "collapsed": true
   },
   "outputs": [],
   "source": [
    "def get_cells(api_url, spid, analysis_res, fossil=False, sfecha=False):\n",
    "    name = get_species_name(spid, API_TAXA_URL)\n",
    "    q_params = {\n",
    "        \"tax_level\": \"especievalida\",\n",
    "        \"tax_name\": name,\n",
    "        \"cells_res\": analysis_res,\n",
    "        \"fossil\": str(fossil).lower(),\n",
    "        \"sfecha\": str(sfecha).lower()\n",
    "    }\n",
    "    print(q_params)\n",
    "    r = requests.post(api_url+'/cells/', params=q_params)\n",
    "    response = json.loads(r.content)\n",
    "\n",
    "    df = pd.DataFrame(response['data'])\n",
    "\n",
    "    return df\n"
   ]
  },
  {
   "cell_type": "markdown",
   "metadata": {},
   "source": [
    "# Prueba de método: lo aplicamos a una especie"
   ]
  },
  {
   "cell_type": "markdown",
   "metadata": {},
   "source": [
    "Analizaremos los registros de *Cynomys mexicanus* (perrito llanero mexicano). "
   ]
  },
  {
   "cell_type": "markdown",
   "metadata": {},
   "source": [
    "El proceso de lo que queremos hacer es:\n",
    "1. Obtener las celdas que ocupa la especie que nos interesa\n",
    "2. Obtener los scores de todas las celdas del grid para la especie\n",
    "3. Finlmente nos quedamos solo con los scores de las celdas del punto 1\n"
   ]
  },
  {
   "cell_type": "markdown",
   "metadata": {},
   "source": [
    "## Get cells for the selected species"
   ]
  },
  {
   "cell_type": "markdown",
   "metadata": {},
   "source": [
    "Primero obtenemos el ID de la especie."
   ]
  },
  {
   "cell_type": "code",
   "execution_count": null,
   "metadata": {},
   "outputs": [],
   "source": [
    "analysis_res = 16\n",
    "\n",
    "name = \"Cynomys mexicanus\"\n",
    "species_data = get_species_data(API_NICHE_URL, name)\n",
    "species_data"
   ]
  },
  {
   "cell_type": "code",
   "execution_count": null,
   "metadata": {
    "collapsed": true
   },
   "outputs": [],
   "source": [
    "spid = species_data['spid']"
   ]
  },
  {
   "cell_type": "markdown",
   "metadata": {
    "variables": {
     "species_data.loc[0,'spid']": "27928"
    }
   },
   "source": [
    "The ID for C. mexicanus is **{{species_data.loc[0,'spid']}}**\n",
    "\n",
    "In the next query we get all the observations for the species and the cells it occupies"
   ]
  },
  {
   "cell_type": "code",
   "execution_count": null,
   "metadata": {},
   "outputs": [],
   "source": [
    "sp_cells = get_taxon_cells(tax_level=\"especievalida\",\n",
    "                           tax_name=\"Cynomys mexicanus\",\n",
    "                           grid_res=analysis_res,\n",
    "                           api_url=API_NICHE_URL)\n",
    "sp_cells.cell_id.sort_values()"
   ]
  },
  {
   "cell_type": "code",
   "execution_count": null,
   "metadata": {},
   "outputs": [],
   "source": [
    "obs_df = get_sp_points(spid, analysis_res)\n",
    "\n",
    "obs_df.gridid.sort_values().unique()"
   ]
  },
  {
   "cell_type": "markdown",
   "metadata": {},
   "source": [
    "## Get cell scores\n",
    "En este ejemplo usaremos sólo mamíferos para calcular los scores"
   ]
  },
  {
   "cell_type": "code",
   "execution_count": null,
   "metadata": {},
   "outputs": [],
   "source": [
    "group_level = \"clasevalida\"\n",
    "group_name = \"Mammalia\"\n",
    "min_occ = 5\n",
    "species_cells = get_cells_bioscores(API_NICHE_URL,\n",
    "                                    spid,\n",
    "                                    group_level,\n",
    "                                    group_name,\n",
    "                                    analysis_res,\n",
    "                                    min_occ)"
   ]
  },
  {
   "cell_type": "code",
   "execution_count": null,
   "metadata": {},
   "outputs": [],
   "source": [
    "species_cells.head()"
   ]
  },
  {
   "cell_type": "code",
   "execution_count": null,
   "metadata": {},
   "outputs": [],
   "source": [
    "species_cells_var_n = get_cells_bioscores_var_n(API_NICHE_URL,\n",
    "                                    spid,\n",
    "                                    group_level,\n",
    "                                    group_name,\n",
    "                                    analysis_res,\n",
    "                                    min_occ)"
   ]
  },
  {
   "cell_type": "code",
   "execution_count": null,
   "metadata": {
    "collapsed": true
   },
   "outputs": [],
   "source": [
    "species_cells_var_n = pd.DataFrame(species_cells_var_n['data'])"
   ]
  },
  {
   "cell_type": "code",
   "execution_count": null,
   "metadata": {},
   "outputs": [],
   "source": [
    "species_cells_var_n.describe()"
   ]
  },
  {
   "cell_type": "code",
   "execution_count": null,
   "metadata": {},
   "outputs": [],
   "source": [
    "species_cells.describe()"
   ]
  },
  {
   "cell_type": "markdown",
   "metadata": {},
   "source": [
    "## De los resultados seleccionamos solo las celdas que ocupa la especie"
   ]
  },
  {
   "cell_type": "code",
   "execution_count": null,
   "metadata": {},
   "outputs": [],
   "source": [
    "species_cells_var_n = species_cells_var_n[species_cells_var_n.gridid.isin(sp_cells.cell_id)]\n",
    "species_cells_trad = species_cells[species_cells.gridid.isin(sp_cells.cell_id)]\n",
    "\n",
    "species_cells_var_n.describe()"
   ]
  },
  {
   "cell_type": "code",
   "execution_count": null,
   "metadata": {},
   "outputs": [],
   "source": [
    "species_cells_trad.describe()"
   ]
  },
  {
   "cell_type": "code",
   "execution_count": null,
   "metadata": {
    "scrolled": false
   },
   "outputs": [],
   "source": [
    "species_cells_var_n.sort_values(by=\"tscore\", ascending=True).head()"
   ]
  },
  {
   "cell_type": "code",
   "execution_count": null,
   "metadata": {},
   "outputs": [],
   "source": [
    "species_cells = species_cells[species_cells.gridid.isin(sp_cells.cell_id)]\n",
    "species_cells.sort_values(by=\"Mammalia_score\", ascending=True).head()"
   ]
  },
  {
   "cell_type": "markdown",
   "metadata": {},
   "source": [
    "## Prueba considerando sólo celdas ocupadas por al menos una especie del grupo de covariables\n",
    "\n",
    "Obtenemos primero para cada celda la lista de especies, luego hacemos un join con la tabla de scores de especies, finalmente sumamos agrupando por id de celda"
   ]
  },
  {
   "cell_type": "code",
   "execution_count": null,
   "metadata": {},
   "outputs": [],
   "source": [
    "species_scores_var_n = get_bio_scores_var_n(API_NICHE_URL,\n",
    "                                    spid,\n",
    "                                    group_level,\n",
    "                                    group_name,\n",
    "                                    analysis_res,\n",
    "                                    min_occ)\n",
    "species_scores_var_n = pd.DataFrame(species_scores_var_n['data'])"
   ]
  },
  {
   "cell_type": "code",
   "execution_count": null,
   "metadata": {},
   "outputs": [],
   "source": [
    "cells_species = []\n",
    "cells_scores_dis = []\n",
    "for c_id in sp_cells.cell_id:\n",
    "    q_params = {\n",
    "        \"tax_group_level\": \"clasevalida\",\n",
    "        \"tax_group_name\": \"Mammalia\",\n",
    "        \"grid_res\": analysis_res,\n",
    "        \"cell_id\": c_id\n",
    "    }\n",
    "    r = requests.post(API_NICHE_URL+'/cells', params=q_params)\n",
    "    response = json.loads(r.content)\n",
    "    cell_sps = response['data']\n",
    "    [sp.update({'cell_id': c_id}) for sp in cell_sps]\n",
    "    cells_scores_dis.extend(cell_sps)\n",
    "\n",
    "cell_sp_df = pd.DataFrame(cells_scores_dis)\n",
    "cell_scores_dis = pd.merge(species_scores_var_n, cell_sp_df.drop(['var_name'], axis=1), left_on='covar_id',right_on='var_id')\n",
    "cell_scores = cell_scores_dis[['cell_id', 'score']].groupby('cell_id').sum()"
   ]
  },
  {
   "cell_type": "code",
   "execution_count": null,
   "metadata": {},
   "outputs": [],
   "source": [
    "cell_scores.describe()"
   ]
  },
  {
   "cell_type": "markdown",
   "metadata": {},
   "source": [
    "En este caso no hubo registros que ocupen una celda con valor negativo"
   ]
  },
  {
   "cell_type": "markdown",
   "metadata": {},
   "source": [
    "# Aplicar el método para todos los mamíferos\n",
    "\n"
   ]
  },
  {
   "cell_type": "markdown",
   "metadata": {
    "collapsed": true
   },
   "source": [
    "Obtenemos todas las especies de mamífero en la base"
   ]
  },
  {
   "cell_type": "code",
   "execution_count": null,
   "metadata": {
    "collapsed": true
   },
   "outputs": [],
   "source": [
    "mammals = get_children(root_level=\"clasevalida\",\n",
    "                       root_name=\"Mammalia\",\n",
    "                       child_level=\"especievalidabusqueda\",\n",
    "                       api_url=API_TAXA_URL)"
   ]
  },
  {
   "cell_type": "code",
   "execution_count": null,
   "metadata": {
    "collapsed": true,
    "scrolled": true
   },
   "outputs": [],
   "source": [
    "# Get Mammalia ids \n",
    "mammalia_ids = []\n",
    "for i, mammal in mammals.iterrows():    \n",
    "    m_data = get_species_data(API_NICHE_URL, mammal['scientific_name'])\n",
    "    if not m_data.empty:\n",
    "        mammalia_ids.append(m_data.loc[0,\"spid\"])"
   ]
  },
  {
   "cell_type": "code",
   "execution_count": null,
   "metadata": {
    "collapsed": true
   },
   "outputs": [],
   "source": [
    "# Get obs and cells per species\n",
    "group_level = \"reinovalido\" \n",
    "group_name = \"Plantae\"\n",
    "\n",
    "registers_evals = {}"
   ]
  },
  {
   "cell_type": "code",
   "execution_count": null,
   "metadata": {
    "collapsed": true
   },
   "outputs": [],
   "source": [
    "count = 0\n",
    "# get cell score for each species register\n",
    "# remaining_ids = set(mammalia_ids) - set(registers_evals.keys())"
   ]
  },
  {
   "cell_type": "code",
   "execution_count": null,
   "metadata": {
    "collapsed": true
   },
   "outputs": [],
   "source": [
    "remaining_ids = set(mammalia_ids) - set(registers_evals.keys())"
   ]
  },
  {
   "cell_type": "code",
   "execution_count": null,
   "metadata": {
    "scrolled": false
   },
   "outputs": [],
   "source": [
    "sp_scores = []\n",
    "for sp_id in mammalia_ids[:5]:\n",
    "    new_scores = get_bio_scores_var_n(API_NICHE_URL,\n",
    "                                        sp_id,\n",
    "                                        group_level,\n",
    "                                        group_name,\n",
    "                                        analysis_res,\n",
    "                                        min_occ)\n",
    "    \n",
    "    \n",
    "    sp_scores.extend(new_scores['data'])   \n"
   ]
  },
  {
   "cell_type": "code",
   "execution_count": null,
   "metadata": {},
   "outputs": [],
   "source": [
    "sp_scores"
   ]
  },
  {
   "cell_type": "code",
   "execution_count": null,
   "metadata": {
    "collapsed": true
   },
   "outputs": [],
   "source": []
  },
  {
   "cell_type": "code",
   "execution_count": null,
   "metadata": {
    "collapsed": true
   },
   "outputs": [],
   "source": [
    "observations_score = pd.concat(registers_evals)\n",
    "observ_score_df = pd.DataFrame.from_records(observations_score.to_records())"
   ]
  },
  {
   "cell_type": "code",
   "execution_count": null,
   "metadata": {},
   "outputs": [],
   "source": [
    "observ_score_df"
   ]
  },
  {
   "cell_type": "code",
   "execution_count": null,
   "metadata": {},
   "outputs": [],
   "source": [
    "observ_score_df = observ_score_df[observ_score_df['tscore'] < 0]\n",
    "observ_score_df.drop('level_1', axis='columns', inplace=True)\n",
    "observ_score_df.rename(index=str, columns={\"level_0\": \"sp_id\"}, inplace=True)\n",
    "len(observ_score_df)"
   ]
  },
  {
   "cell_type": "code",
   "execution_count": null,
   "metadata": {},
   "outputs": [],
   "source": [
    "sp_ids = observ_score_df.sp_id.unique()\n",
    "print(len(sp_ids))\n",
    "ids_map = {}\n",
    "for sid in sp_ids:\n",
    "    ids_map[sid] = get_species_name(sid, API_TAXA_URL)\n",
    "ids_map"
   ]
  },
  {
   "cell_type": "code",
   "execution_count": null,
   "metadata": {},
   "outputs": [],
   "source": [
    "observ_score_df['sp_name'] = observ_score_df.sp_id.map(ids_map)"
   ]
  },
  {
   "cell_type": "code",
   "execution_count": null,
   "metadata": {
    "collapsed": true
   },
   "outputs": [],
   "source": [
    "# Elimina los cetaceos de la lista, sólo estamos analizando terrestres\n",
    "cetaceos = get_children(\"ordenvalido\", \"Cetacea\", \"especievalidabusqueda\", API_TAXA_URL)"
   ]
  },
  {
   "cell_type": "code",
   "execution_count": null,
   "metadata": {
    "collapsed": true
   },
   "outputs": [],
   "source": [
    "keep_mammals = set(ids_map.values()) - set(cetaceos['scientific_name'])"
   ]
  },
  {
   "cell_type": "code",
   "execution_count": null,
   "metadata": {
    "collapsed": true
   },
   "outputs": [],
   "source": [
    "observ_score_df = observ_score_df[observ_score_df.sp_name.isin(keep_mammals)]"
   ]
  },
  {
   "cell_type": "code",
   "execution_count": null,
   "metadata": {},
   "outputs": [],
   "source": [
    "observ_score_df.sort_values(by='tscore', ascending=True)"
   ]
  },
  {
   "cell_type": "code",
   "execution_count": null,
   "metadata": {
    "collapsed": true
   },
   "outputs": [],
   "source": []
  },
  {
   "cell_type": "code",
   "execution_count": null,
   "metadata": {
    "collapsed": true
   },
   "outputs": [],
   "source": [
    "sp_stats_scores = {}\n",
    "for r_key in registers_evals.keys():\n",
    "    scores_stats = registers_evals[r_key].describe().tscore\n",
    "    sp_stats_scores[r_key] = scores_stats"
   ]
  },
  {
   "cell_type": "code",
   "execution_count": null,
   "metadata": {},
   "outputs": [],
   "source": [
    "sp_stats_scores_df = pd.DataFrame.from_dict(sp_stats_scores, orient='index')\n",
    "sp_stats_scores_df"
   ]
  },
  {
   "cell_type": "code",
   "execution_count": null,
   "metadata": {},
   "outputs": [],
   "source": [
    "get_cells(API_NICHE_URL, mammalia_ids[0], analysis_res)"
   ]
  },
  {
   "cell_type": "code",
   "execution_count": null,
   "metadata": {
    "scrolled": true
   },
   "outputs": [],
   "source": [
    "sp_scores_stats_df[sp_scores_stats_df['count'] > 10].sort_values(by='min', ascending=True)\n"
   ]
  },
  {
   "cell_type": "code",
   "execution_count": null,
   "metadata": {
    "collapsed": true
   },
   "outputs": [],
   "source": [
    "sp_data = [get_data_from_id(API_NICHE_URL, id) for id in mammalia_ids]"
   ]
  },
  {
   "cell_type": "code",
   "execution_count": null,
   "metadata": {
    "collapsed": true
   },
   "outputs": [],
   "source": [
    "sp_data_df = pd.concat(sp_data)\n",
    "sp_data_df = sp_data_df.set_index(keys='spid')"
   ]
  },
  {
   "cell_type": "code",
   "execution_count": null,
   "metadata": {
    "collapsed": true
   },
   "outputs": [],
   "source": [
    "sp_scores_stats_df = sp_data_df.merge(sp_stats_scores_df, right_index=True, left_index=True)"
   ]
  },
  {
   "cell_type": "code",
   "execution_count": null,
   "metadata": {
    "collapsed": true
   },
   "outputs": [],
   "source": [
    "sp_scores_stats_df"
   ]
  },
  {
   "cell_type": "markdown",
   "metadata": {},
   "source": [
    "## Get the most suspicious observations \n",
    "\n",
    "That is, observation registers at cells with the lowest scores"
   ]
  },
  {
   "cell_type": "code",
   "execution_count": null,
   "metadata": {
    "collapsed": true
   },
   "outputs": [],
   "source": [
    "observ_score_df.sort_values(by='Plantae_score').head()"
   ]
  },
  {
   "cell_type": "code",
   "execution_count": null,
   "metadata": {
    "collapsed": true
   },
   "outputs": [],
   "source": [
    "observ_score_df[observ_score_df['sp_id'] == 27304]"
   ]
  },
  {
   "cell_type": "code",
   "execution_count": null,
   "metadata": {
    "collapsed": true
   },
   "outputs": [],
   "source": [
    "selected_species_cells = registers_evals[27754]\n",
    "print(sp_scores_stats_df.loc[27754])\n",
    "selected_species_cells"
   ]
  },
  {
   "cell_type": "code",
   "execution_count": null,
   "metadata": {
    "collapsed": true
   },
   "outputs": [],
   "source": [
    "\n",
    "feature_group_suspicious = folium.FeatureGroup(name='Suspicious')\n",
    "feature_group_ok = folium.FeatureGroup(name='OK')\n",
    "\n",
    "# load species points\n",
    "pt_data = get_sp_points(27754)\n"
   ]
  },
  {
   "cell_type": "code",
   "execution_count": null,
   "metadata": {
    "collapsed": true
   },
   "outputs": [],
   "source": [
    "geo_data = [json.loads(e) for e in pt_data['json_geom']]"
   ]
  },
  {
   "cell_type": "code",
   "execution_count": null,
   "metadata": {
    "collapsed": true
   },
   "outputs": [],
   "source": [
    "len(pt_data)"
   ]
  },
  {
   "cell_type": "code",
   "execution_count": null,
   "metadata": {
    "collapsed": true
   },
   "outputs": [],
   "source": [
    "points = [pt['coordinates'][::-1] for pt in geo_data]\n",
    "marker_cluster_active = folium.MarkerCluster()\n",
    "marker_cluster_unactive =folium.MarkerCluster()\n",
    "\n",
    "for site in data_sites:\n",
    "    if(site[\"status\"]==\"is_active\"):\n",
    "        marker_active = folium.Marker(site[\"coordinates\"],popup=\"OK\",icon = folium.Icon(color='green',icon='ok-sign'))\n",
    "        marker_cluster_active.add_child(marker_active)\n",
    "    else:\n",
    "        marker_unactive = folium.Marker(site[\"coordinates\"],popup=\"KO\",icon = folium.Icon(color='red',icon='exclamation-sign'))\n",
    "        marker_cluster_unactive.add_child(marker_unactive)\n",
    "        \n",
    "folium.plugins.MarkerCluster(locations=points).add_to(m)"
   ]
  },
  {
   "cell_type": "code",
   "execution_count": null,
   "metadata": {
    "collapsed": true,
    "scrolled": true
   },
   "outputs": [],
   "source": [
    "selected_species_cells['gridid'] = selected_species_cells.index\n",
    "selected_species_cells"
   ]
  },
  {
   "cell_type": "code",
   "execution_count": null,
   "metadata": {
    "collapsed": true
   },
   "outputs": [],
   "source": [
    "#\n",
    "deciles = selected_species_cells.Magnoliopsida_score.quantile([1, .5, ])\n",
    "deciles = [int(d) for d in deciles]\n",
    "\n",
    "\n",
    "\n",
    "m = folium.Map(location=[48, -102],\n",
    "               zoom_start=3\n",
    "              )\n",
    "grid_path = os.path.join(\"../SPECIES/repos/snib-middleware/geofiles/niche/\", \"mx_grid_{}km.json\".format(analysis_res))\n",
    "\n",
    "\n",
    "m.choropleth(\n",
    "    grid_path,\n",
    "    data=selected_species_cells,\n",
    "    columns=['gridid', 'Magnoliopsida_score'],\n",
    "    key_on='feature.properties.gridid',\n",
    "    threshold_scale=[-400, -1, 0, 1, 400],\n",
    "    fill_color='YlGnBu',\n",
    "    fill_opacity=0.7,\n",
    "    line_color='white',\n",
    "    line_opacity=0.2,\n",
    "    reset=True)\n",
    "\n",
    "points = [pt['coordinates'][::-1] for pt in geo_data]\n",
    "folium.plugins.MarkerCluster(locations=points).add_to(m)\n",
    "\n",
    "m.save('test_validation.html')"
   ]
  },
  {
   "cell_type": "code",
   "execution_count": null,
   "metadata": {
    "collapsed": true
   },
   "outputs": [],
   "source": [
    "? m.choropleth"
   ]
  },
  {
   "cell_type": "code",
   "execution_count": null,
   "metadata": {
    "collapsed": true
   },
   "outputs": [],
   "source": [
    "pwd"
   ]
  },
  {
   "cell_type": "markdown",
   "metadata": {},
   "source": [
    "## Get the most problematic species\n",
    "That is, species with the largest variance in their occupied cells scores"
   ]
  },
  {
   "cell_type": "code",
   "execution_count": null,
   "metadata": {
    "collapsed": true
   },
   "outputs": [],
   "source": [
    "get_taxon_cells('clasevalida', 'Mammalia', 16, API_NICHE_URL)"
   ]
  },
  {
   "cell_type": "markdown",
   "metadata": {},
   "source": [
    "# Por hacer\n",
    "* Implementar: Especificación de resolución de grid para obtener las celdas que ocupa un taxon a cualquier resolución\n",
    "* Implementar: Calcular scores sólo para un conjunto de celdas especifico\n",
    "* Apriori debería ser un booleano en vez de requerir la palabra apriori, ¿o por qué está así?"
   ]
  },
  {
   "cell_type": "markdown",
   "metadata": {
    "collapsed": true
   },
   "source": [
    "# Notas\n",
    "* ¿Tiene sentido considerar la probabilidad de que cualquier especie caiga en una celda dada su riqueza?\n",
    "    * Ejemplo: Sabemos que una celda C1 tiene registradas 1000 especies y otra celda C2 tiene una. Dada una especie E, sin más información la probabidad de que E esté en C1 es mayor a que esté en C2.\n"
   ]
  },
  {
   "cell_type": "code",
   "execution_count": null,
   "metadata": {
    "collapsed": true
   },
   "outputs": [],
   "source": [
    "5 / 10"
   ]
  },
  {
   "cell_type": "code",
   "execution_count": null,
   "metadata": {
    "collapsed": true
   },
   "outputs": [],
   "source": [
    "def epsilon(n_c, n_x, n_cx, n):\n",
    "    p_c = n_c / n\n",
    "    return n_x * (n_cx / n_x - p_c) / (n_x * p_c * (1 - p_c))**0.5"
   ]
  },
  {
   "cell_type": "code",
   "execution_count": null,
   "metadata": {
    "collapsed": true
   },
   "outputs": [],
   "source": [
    "epsilon(115, 115, 0, 200)"
   ]
  },
  {
   "cell_type": "code",
   "execution_count": null,
   "metadata": {
    "collapsed": true
   },
   "outputs": [],
   "source": [
    "(1 - 115/20000)**115"
   ]
  },
  {
   "cell_type": "code",
   "execution_count": null,
   "metadata": {
    "collapsed": true
   },
   "outputs": [],
   "source": [
    "get_"
   ]
  },
  {
   "cell_type": "code",
   "execution_count": null,
   "metadata": {
    "collapsed": true
   },
   "outputs": [],
   "source": [
    "mamm_cells = get_taxon_cells('clasevalida', 'Mammalia', 16, API_NICHE_URL)"
   ]
  },
  {
   "cell_type": "code",
   "execution_count": null,
   "metadata": {
    "collapsed": true
   },
   "outputs": [],
   "source": [
    "rep_cells = get_taxon_cells('clasevalida', 'Reptilia', 16, API_NICHE_URL)"
   ]
  },
  {
   "cell_type": "code",
   "execution_count": null,
   "metadata": {
    "collapsed": true
   },
   "outputs": [],
   "source": [
    "len(set(mamm_cells.cell_id).union(rep_cells.cell_id))"
   ]
  },
  {
   "cell_type": "code",
   "execution_count": null,
   "metadata": {
    "collapsed": true
   },
   "outputs": [],
   "source": [
    "def epsilon(ni, nj, nij, n):\n",
    "    p_i = ni / float(n)\n",
    "    return nj * (nij / float(nj) - p_i) / (nj * p_i * (1 - p_i))**0.5"
   ]
  },
  {
   "cell_type": "code",
   "execution_count": null,
   "metadata": {
    "collapsed": true
   },
   "outputs": [],
   "source": [
    "epsilon(22, 272, 0, 26944)"
   ]
  },
  {
   "cell_type": "code",
   "execution_count": null,
   "metadata": {
    "collapsed": true
   },
   "outputs": [],
   "source": [
    "epsilon(22, 272, 0, 8537)"
   ]
  },
  {
   "cell_type": "code",
   "execution_count": null,
   "metadata": {
    "collapsed": true
   },
   "outputs": [],
   "source": [
    "def score(ni, nj, nij, n, alfa = 0.000001):\n",
    "    p_i = ni / float(n)\n",
    "    p_no_i = (n - ni) / float(n)\n",
    "    \n",
    "    p_ji = nij / float(ni)\n",
    "    p_j_no_i = (nj - nij) / float(n - ni)\n",
    "    \n",
    "    s_ji = math.log((p_ji + alfa) / (p_j_no_i + 2*alfa))\n",
    "    \n",
    "    return s_ji"
   ]
  },
  {
   "cell_type": "code",
   "execution_count": null,
   "metadata": {
    "collapsed": true
   },
   "outputs": [],
   "source": [
    "score(22, 284, 6, 8537, alfa=0.000001)"
   ]
  },
  {
   "cell_type": "markdown",
   "metadata": {},
   "source": [
    "Con variables climaticas"
   ]
  },
  {
   "cell_type": "code",
   "execution_count": null,
   "metadata": {
    "collapsed": true
   },
   "outputs": [],
   "source": [
    "group_ind = 1\n",
    "group_str = 'tfilters[{}]'.format(group_ind)\n",
    "group_fields = {'label':'{}[label]', 'type':'{}[type]', 'level':'{}[level]', 'value':'{}[value]'}\n",
    "\n",
    "for k in group_fields.keys():\n",
    "    group_fields[k] = group_fields[k].format(group_str)\n",
    "group_fields    \n",
    "\n",
    "new_abio_vargroup = {\n",
    " group_fields['label']: 'Bioclim',\n",
    " group_fields['type']: 0,\n",
    " group_fields['level']: 0,\n",
    " group_fields['value']: 'root_bioclim',\n",
    "}\n",
    "\n",
    "query.update(new_abio_vargroup)\n",
    "\n",
    "query['hasRaster'] = 'true'\n",
    "query\n",
    "\n",
    "score_name = 'magn_abiot_score'\n",
    "r = requests.post(API_URL+'/getCellScore', params=query)\n",
    "print(r)\n",
    "response = json.loads(r.content)\n",
    "\n",
    "df = pd.DataFrame(response['data'])\n",
    "\n",
    "df['tscore'] = df['tscore'].apply(pd.to_numeric)\n",
    "df.rename(columns={'tscore':score_name}, inplace=True)\n",
    "df.describe()\n",
    "\n",
    "df.set_index('gridid', inplace=True)\n",
    "abio_magn_scores = df\n",
    "abio_magn_scores.describe()\n",
    "\n",
    "abio_magn_scores = abio_magn_scores.loc[sp_cells.unique()]\n",
    "abio_magn_scores.describe()"
   ]
  },
  {
   "cell_type": "code",
   "execution_count": null,
   "metadata": {
    "collapsed": true
   },
   "outputs": [],
   "source": [
    "get_species_name(27336, API_TAXA_URL)"
   ]
  },
  {
   "cell_type": "code",
   "execution_count": null,
   "metadata": {
    "collapsed": true
   },
   "outputs": [],
   "source": []
  }
 ],
 "metadata": {
  "kernelspec": {
   "display_name": "Python 2",
   "language": "python",
   "name": "python2"
  },
  "language_info": {
   "codemirror_mode": {
    "name": "ipython",
    "version": 2
   },
   "file_extension": ".py",
   "mimetype": "text/x-python",
   "name": "python",
   "nbconvert_exporter": "python",
   "pygments_lexer": "ipython2",
   "version": "2.7.12"
  },
  "toc": {
   "colors": {
    "hover_highlight": "#DAA520",
    "navigate_num": "#000000",
    "navigate_text": "#333333",
    "running_highlight": "#FF0000",
    "selected_highlight": "#FFD700",
    "sidebar_border": "#EEEEEE",
    "wrapper_background": "#FFFFFF"
   },
   "moveMenuLeft": true,
   "nav_menu": {
    "height": "138px",
    "width": "252px"
   },
   "navigate_menu": true,
   "number_sections": true,
   "sideBar": true,
   "threshold": "2",
   "toc_cell": true,
   "toc_position": {
    "height": "626px",
    "left": "0px",
    "right": "1076px",
    "top": "107px",
    "width": "212px"
   },
   "toc_section_display": "block",
   "toc_window_display": true,
   "widenNotebook": false
  }
 },
 "nbformat": 4,
 "nbformat_minor": 2
}
