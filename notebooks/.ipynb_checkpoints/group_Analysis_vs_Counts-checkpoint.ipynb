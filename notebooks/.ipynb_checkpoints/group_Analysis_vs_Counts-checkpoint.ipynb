{
 "cells": [
  {
   "cell_type": "code",
   "execution_count": 1,
   "metadata": {},
   "outputs": [],
   "source": [
    "import requests"
   ]
  },
  {
   "cell_type": "code",
   "execution_count": 115,
   "metadata": {},
   "outputs": [],
   "source": [
    "def compare_responses(data_1, data_2):\n",
    "    if len(data_1) != len(data_2):\n",
    "        print(\"NO coinciden las logitudes de los datos\")\n",
    "        return False\n",
    "    cells_1 = data_1[0]['cells']\n",
    "    cells_1.sort()\n",
    "    cells_2 = data_2[0]['cells']\n",
    "    cells_2.sort()\n",
    "    if cells_1 != cells_2:\n",
    "        print(\"No coinciden las celdas\")\n",
    "        return False\n",
    "    if data_1[0]['nij'] != data_2[0]['nij']:\n",
    "        print('No coinciden las celdas de interseccion')\n",
    "        return False\n",
    "    if data_1[0]['epsilon'] != data_2[0]['epsilon']:\n",
    "        # print(data_1[0]['epsilon'], data_2[0]['epsilon'])\n",
    "        print(\"No coincide epsilon\")\n",
    "        return False\n",
    "    if data_1[0]['score'] != data_2[0]['score']:\n",
    "        print(\"No coincide score\")\n",
    "        return False\n",
    "    return True"
   ]
  },
  {
   "cell_type": "code",
   "execution_count": 110,
   "metadata": {},
   "outputs": [],
   "source": [
    "def countsTaxonsGroup(data):\n",
    "    print('countsTaxonsGroup')\n",
    "    url_group = 'http://localhost:8080/niche/countsTaxonsGroup'\n",
    "    response_group = requests.post(url_group, json=data)\n",
    "    #print(response_group.json())\n",
    "    data_1 = response_group.json()['data']\n",
    "    return data_1"
   ]
  },
  {
   "cell_type": "code",
   "execution_count": 89,
   "metadata": {},
   "outputs": [],
   "source": [
    "def counts(data):\n",
    "    print('counts')\n",
    "    url_counts = 'http://localhost:8080/niche/counts'\n",
    "    response_counts = requests.post(url_counts, json=data)\n",
    "    data_1 = response_counts.json()['data']\n",
    "    return data_1"
   ]
  },
  {
   "cell_type": "markdown",
   "metadata": {},
   "source": [
    "## verbo `countsTaxonsGroup` vs verbo `counts`: \n",
    "* caso covariables bioticas"
   ]
  },
  {
   "cell_type": "code",
   "execution_count": 50,
   "metadata": {},
   "outputs": [],
   "source": [
    "data_group = {\n",
    "  \"grid_resolution\": 16,\n",
    "  \"region\": 1,\n",
    "  \"min_cells\": 5,\n",
    "  \"target_name\": \"Lynx_rufus\",\n",
    "  \"target_taxons\": [\n",
    "    {\n",
    "      \"taxon_rank\": \"species\",\n",
    "      \"value\": \"Lynx rufus\"\n",
    "    }\n",
    "  ],\n",
    "  \"covariables_taxons\": [\n",
    "    {\n",
    "      \"group_name\": \"Canis_latrans\",\n",
    "      \"biotic\": True,\n",
    "      \"group_taxons\": [\n",
    "        {\n",
    "          \"taxon_rank\": \"species\",\n",
    "          \"value\": \"Canis latrans\"\n",
    "        }\n",
    "      ]\n",
    "    }\n",
    "  ]\n",
    "}"
   ]
  },
  {
   "cell_type": "code",
   "execution_count": 47,
   "metadata": {},
   "outputs": [],
   "source": [
    "data_counts = {\n",
    "    \"time\":1550512960156,\n",
    "    \"footprint_region\":1,\n",
    "    \"fossil\":True,\n",
    "    \"grid_res\":16,\n",
    "    \"hasBios\":True,\n",
    "    \"hasRaster\":False,\n",
    "    \"id\":27333,\n",
    "    \"idtabla\":\"no_table\",\n",
    "    \"min_occ\":5,\n",
    "    \"sfecha\":True,\n",
    "    \"val_process\":False,\n",
    "    \"idtime\":1550512957353,\n",
    "    \"level_req\":\"single\",\n",
    "    \"with_data_freq\":False,\n",
    "    \"with_data_score_cell\":False,\n",
    "    \"with_data_freq_cell\":False,\n",
    "    \"with_data_score_decil\":False,\n",
    "    \"discardedFilterids\":[\n",
    "    ],\n",
    "    \"tfilters\":[\n",
    "        {\n",
    "            \"field\":\"especievalidabusqueda\",\n",
    "            \"value\":\"Canis latrans\",\n",
    "            \"type\":0,\n",
    "            \"group_item\":1\n",
    "        }\n",
    "    ]\n",
    "}\n"
   ]
  },
  {
   "cell_type": "code",
   "execution_count": 77,
   "metadata": {},
   "outputs": [
    {
     "data": {
      "text/plain": [
       "True"
      ]
     },
     "execution_count": 77,
     "metadata": {},
     "output_type": "execute_result"
    }
   ],
   "source": [
    "data_1 = countsTaxonsGroup(data_group)\n",
    "data_2 = counts(data_counts)\n",
    "compare_responses(data_1, data_2)"
   ]
  },
  {
   "cell_type": "markdown",
   "metadata": {},
   "source": [
    "## verbo `countsTaxonsGroup` vs verbo `counts`: \n",
    "* caso covariables abioticas"
   ]
  },
  {
   "cell_type": "code",
   "execution_count": 111,
   "metadata": {},
   "outputs": [],
   "source": [
    "data_group = {\n",
    "  \"grid_resolution\": 16,\n",
    "  \"region\": 1,\n",
    "  \"min_cells\": 5,\n",
    "  \"target_name\": \"Lynx_rufus\",\n",
    "  \"target_taxons\": [\n",
    "    {\n",
    "      \"taxon_rank\": \"species\",\n",
    "      \"value\": \"Lynx rufus\"\n",
    "    }\n",
    "  ],\n",
    "  \"covariables_taxons\": [\n",
    "          {\n",
    "             \"group_name\":\"group2\",\n",
    "              \"biotic\": False,\n",
    "              \"group_taxons\": [\n",
    "                  {\n",
    "                      \"taxon_rank\":\"bid\", \n",
    "                      \"value\":300000\n",
    "                  }\n",
    "            ]\n",
    "          }\n",
    "    ]\n",
    "}"
   ]
  },
  {
   "cell_type": "code",
   "execution_count": 112,
   "metadata": {},
   "outputs": [],
   "source": [
    "data_counts = {\n",
    "    \"id\":27333,\n",
    "    \"idtime\":1550517011877,\n",
    "    \"min_occ\":5,\n",
    "    \"fossil\":True,\n",
    "    \"sfecha\":True,\n",
    "    \"val_process\":False,\n",
    "    \"idtabla\":\"no_table\",\n",
    "    \"grid_res\":16,\n",
    "    \"footprint_region\":1,\n",
    "    \"level_req\":\"single\",\n",
    "    \"discardedFilterids\":[],\n",
    "    \"hasBios\":False,\n",
    "    \"hasRaster\":True,\n",
    "    \"tfilters\":[\n",
    "        {\n",
    "            \"value\":300000,\n",
    "            \"type\":1,\n",
    "            \"level\":3,\n",
    "            \"group_item\":1,\n",
    "            \"label\":\"-0.5 ºC : 0.5 ºC\"\n",
    "        }\n",
    "    ],\n",
    "    \"with_data_freq\":False,\n",
    "    \"with_data_score_cell\":True,\n",
    "    \"with_data_freq_cell\":False,\n",
    "    \"with_data_score_decil\":False\n",
    "}"
   ]
  },
  {
   "cell_type": "code",
   "execution_count": 117,
   "metadata": {},
   "outputs": [
    {
     "name": "stdout",
     "output_type": "stream",
     "text": [
      "countsTaxonsGroup\n",
      "counts\n"
     ]
    },
    {
     "data": {
      "text/plain": [
       "True"
      ]
     },
     "execution_count": 117,
     "metadata": {},
     "output_type": "execute_result"
    }
   ],
   "source": [
    "data_1 = countsTaxonsGroup(data_group)\n",
    "data_2 = counts(data_counts)\n",
    "#print(data_1, data_2)\n",
    "compare_responses(data_1, data_2)"
   ]
  },
  {
   "cell_type": "markdown",
   "metadata": {},
   "source": [
    "## verbo `countsTaxonsGroup` vs verbo `counts`: \n",
    "* caso covariables bioticas\n",
    "* caso covariables abioticas"
   ]
  },
  {
   "cell_type": "code",
   "execution_count": null,
   "metadata": {},
   "outputs": [],
   "source": [
    "data_group = {\n",
    "  \"grid_resolution\": 16,\n",
    "  \"region\": 1,\n",
    "  \"min_cells\": 5,\n",
    "  \"target_name\": \"Lynx_rufus\",\n",
    "  \"target_taxons\": [\n",
    "    {\n",
    "      \"taxon_rank\": \"species\",\n",
    "      \"value\": \"Lynx rufus\"\n",
    "    }\n",
    "  ],\n",
    "  \"covariables_taxons\": [\n",
    "          {\n",
    "              \"group_name\": \"Canis_latrans\",\n",
    "              \"biotic\": True,\n",
    "              \"group_taxons\": [\n",
    "                {\n",
    "                  \"taxon_rank\": \"species\",\n",
    "                  \"value\": \"Canis latrans\"\n",
    "                }\n",
    "            ]\n",
    "          },\n",
    "          {\n",
    "             \"group_name\":\"group2\",\n",
    "              \"biotic\": False,\n",
    "              \"group_taxons\": [\n",
    "                  {\n",
    "                      \"taxon_rank\":\"bid\", \n",
    "                      \"value\":300000\n",
    "                  }\n",
    "               ]\n",
    "          }\n",
    "    ]\n",
    "}"
   ]
  }
 ],
 "metadata": {
  "kernelspec": {
   "display_name": "Python 3",
   "language": "python",
   "name": "python3"
  },
  "language_info": {
   "codemirror_mode": {
    "name": "ipython",
    "version": 3
   },
   "file_extension": ".py",
   "mimetype": "text/x-python",
   "name": "python",
   "nbconvert_exporter": "python",
   "pygments_lexer": "ipython3",
   "version": "3.6.7"
  }
 },
 "nbformat": 4,
 "nbformat_minor": 2
}
