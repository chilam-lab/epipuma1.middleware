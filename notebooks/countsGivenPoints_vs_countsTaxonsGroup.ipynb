{
 "cells": [
  {
   "cell_type": "code",
   "execution_count": 1,
   "metadata": {},
   "outputs": [],
   "source": [
    "import requests\n",
    "import json"
   ]
  },
  {
   "cell_type": "markdown",
   "metadata": {},
   "source": [
    "- Este notebook es para comparar los resultados del verbo *countsTaxonsGroup* con el nuevo verbo *countsTaxonsGroupGivenPoints*.\n",
    "\n",
    "- El verbo *countsTaxonsGroup* es el que actualmente provee del análisis de nicho a la plataforma SPECIES.\n",
    "\n",
    "* El verbo *countsTaxonsGroupGivenPoints* hace el mismo análisis que *countsTaxonsGroup* pero con puntos dados por el usuario.\n"
   ]
  },
  {
   "cell_type": "code",
   "execution_count": 2,
   "metadata": {},
   "outputs": [],
   "source": [
    "url = 'http://species.conabio.gob.mx/api/dev/niche/'"
   ]
  },
  {
   "cell_type": "code",
   "execution_count": 3,
   "metadata": {},
   "outputs": [],
   "source": [
    "req = {\n",
    "  \"date\": True,\n",
    "  \"lim_inf\": 1600,\n",
    "  \"lim_sup\": 2020,\n",
    "  \"with_data_freq\": True,\n",
    "  \"excluded_cells\": [],\n",
    "  \"fosil\": True,\n",
    "  \"idtabla\": \"\",\n",
    "  \"idtime\": 1557853095248,\n",
    "  \"apriori\": False,\n",
    "  \"mapa_prob\": False,\n",
    "  \"min_cells\": 5,\n",
    "  \"with_data_score_cell\": True,\n",
    "  \"with_data_freq_cell\": True,\n",
    "  \"get_grid_specie\": False,\n",
    "  \"region\": 1,\n",
    "  \"grid_resolution\": 16,\n",
    "  \"with_data_score_decil\": True,\n",
    "  \"target_name\": \"targetGroup\",\n",
    "  \"longitud\": 0,\n",
    "  \"latitud\": 0,\n",
    "  \"target_taxons\": [\n",
    "    {\n",
    "      \"taxon_rank\": \"species\",\n",
    "      \"value\": \"Lynx rufus\"\n",
    "    }\n",
    "  ],\n",
    "  \"covariables\": [\n",
    "    {\n",
    "      \"name\": \"GpoBio1\",\n",
    "      \"biotic\": True,\n",
    "      \"merge_vars\": [\n",
    "        {\n",
    "          \"rank\": \"order\",\n",
    "          \"value\": \"Didelphimorphia\",\n",
    "          \"level\": \"species\"\n",
    "        }\n",
    "      ]\n",
    "    }\n",
    "  ]\n",
    "}"
   ]
  },
  {
   "cell_type": "code",
   "execution_count": 4,
   "metadata": {},
   "outputs": [],
   "source": [
    "req_gp = {\n",
    "  \"date\": True,\n",
    "  \"lim_inf\": 1600,\n",
    "  \"lim_sup\": 2020,\n",
    "  \"with_data_freq\": True,\n",
    "  \"idtabla\": \"\",\n",
    "  \"fosil\": True,\n",
    "  \"apriori\": False,\n",
    "  \"mapa_prob\": False,\n",
    "  \"min_cells\": 5,\n",
    "  \"with_data_score_cell\": True,\n",
    "  \"with_data_freq_cell\": True,\n",
    "  \"get_grid_specie\": False,\n",
    "  \"region\": 1,\n",
    "  \"grid_resolution\": 16,\n",
    "  \"with_data_score_decil\": True,\n",
    "  \"target_name\": \"testing_Lynx_rufus\",\n",
    "  \"longitud\": 0,\n",
    "  \"latitud\": 0,\n",
    "  \"target_points\": [],\n",
    "  \"covariables\": [\n",
    "    {\n",
    "      \"name\": \"GpoBio1\",\n",
    "      \"biotic\": True,\n",
    "      \"merge_vars\": [\n",
    "        {\n",
    "          \"rank\": \"order\",\n",
    "          \"value\": \"Didelphimorphia\",\n",
    "          \"level\": \"species\"\n",
    "        }\n",
    "      ]\n",
    "    }\n",
    "  ]\n",
    "}"
   ]
  },
  {
   "cell_type": "markdown",
   "metadata": {},
   "source": [
    "## Se leen los datos"
   ]
  },
  {
   "cell_type": "code",
   "execution_count": 5,
   "metadata": {},
   "outputs": [],
   "source": [
    "#file = './data/Aedes_aegypti.json'\n",
    "file = './data/Lynx_rufus.json'\n",
    "#file = './data/Panthera_onca.json'\n",
    "#file = './data/Kricogonia_lyside.json'\n",
    "#file = './data/Achillea_millefolium.json'\n",
    "#file = './data/Trifolium_repens.json'\n",
    "\n",
    "with open(file, 'r') as f:\n",
    "    \n",
    "    target_points = json.loads(str(f.read()))['data']\n",
    "    \n",
    "    \n",
    "req_gp['target_points'] = target_points"
   ]
  },
  {
   "cell_type": "markdown",
   "metadata": {},
   "source": [
    "## Comparación"
   ]
  },
  {
   "cell_type": "code",
   "execution_count": 6,
   "metadata": {},
   "outputs": [
    {
     "name": "stdout",
     "output_type": "stream",
     "text": [
      "Didelphis virginiana 654\n",
      "Tlacuatzin canescens 151\n",
      "Didelphis marsupialis 273\n",
      "Philander opossum 206\n",
      "Marmosa mexicana 125\n",
      "Caluromys derbianus 31\n",
      "Marmosa mayensis 9\n",
      "Chironectes minimus 14\n"
     ]
    }
   ],
   "source": [
    "res = requests.post(url + 'countsTaxonsGroup', json=req).json()\n",
    "\n",
    "for obj in res['data']:\n",
    "    print(obj['generovalido'] + ' ' + obj['especieepiteto'], len(obj['cells_map']))"
   ]
  },
  {
   "cell_type": "code",
   "execution_count": 7,
   "metadata": {},
   "outputs": [
    {
     "name": "stdout",
     "output_type": "stream",
     "text": [
      "Didelphis virginiana 654\n",
      "Tlacuatzin canescens 151\n",
      "Didelphis marsupialis 273\n",
      "Philander opossum 206\n",
      "Marmosa mexicana 125\n",
      "Caluromys derbianus 31\n",
      "Marmosa mayensis 9\n",
      "Chironectes minimus 14\n"
     ]
    }
   ],
   "source": [
    "res_gp = requests.post(url + 'countsTaxonsGroupGivenPoints', json=req_gp).json()\n",
    "\n",
    "for obj in res_gp['data']:\n",
    "    print(obj['generovalido'] + ' ' + obj['especieepiteto'], len(obj['cells_map']))"
   ]
  },
  {
   "cell_type": "code",
   "execution_count": 8,
   "metadata": {
    "scrolled": false
   },
   "outputs": [],
   "source": [
    "assert res.keys() == res_gp.keys(), f\"{res.keys()} \\n {res_gp.keys()}\""
   ]
  },
  {
   "cell_type": "code",
   "execution_count": 9,
   "metadata": {
    "scrolled": false
   },
   "outputs": [],
   "source": [
    "assert len(res['data']) == len(res_gp['data'])"
   ]
  },
  {
   "cell_type": "code",
   "execution_count": 10,
   "metadata": {},
   "outputs": [],
   "source": [
    "def get_species_from_group(data, group_name, genus, epithet):    \n",
    "    for elem in data:\n",
    "        if elem['group_name'] == group_name:\n",
    "            if (elem['generovalido'] == genus) and (elem['especieepiteto'] == epithet):\n",
    "                species_data = elem\n",
    "                return species_data\n",
    "    \n",
    "    return None\n",
    "            "
   ]
  },
  {
   "cell_type": "code",
   "execution_count": null,
   "metadata": {
    "scrolled": true
   },
   "outputs": [],
   "source": [
    "get_species_from_group(res_gp['data'], 'GpoBio1', 'Tlacuatzin', 'canescens')"
   ]
  },
  {
   "cell_type": "code",
   "execution_count": 12,
   "metadata": {
    "scrolled": false
   },
   "outputs": [],
   "source": [
    "for i, obj in enumerate(res['data']):\n",
    "    obj_gp = get_species_from_group(res_gp['data'], 'GpoBio1', obj['generovalido'], obj['especieepiteto'])\n",
    "    \n",
    "    assert obj.keys() == obj_gp.keys()\n",
    "    \n",
    "    for k, v in obj.items():\n",
    "        if k == 'cells':\n",
    "            assert set(obj_gp[k]) == set(v), f\"Data element: {i} Key: {k} \\n{100*'-'}\\n {set(obj_gp[k]).difference(v)}\"\n",
    "        else:\n",
    "            assert obj_gp[k] == v, f\"Data info: {obj['generovalido']} {obj['especieepiteto']} {i} Key: {k} \\n{100*'-'}\\n GP: {obj_gp[k]} Orig: {v}\"\n"
   ]
  },
  {
   "cell_type": "markdown",
   "metadata": {},
   "source": [
    "## Con validación?"
   ]
  },
  {
   "cell_type": "code",
   "execution_count": 13,
   "metadata": {},
   "outputs": [],
   "source": [
    "req_gp = {\n",
    "  \"date\": True,\n",
    "  \"lim_inf\": 1600,\n",
    "  \"lim_sup\": 2020,\n",
    "  \"with_data_freq\": True,\n",
    "  \"idtabla\": \"\",\n",
    "  \"fosil\": True,\n",
    "  \"apriori\": False,\n",
    "  \"mapa_prob\": False,\n",
    "  \"min_cells\": 5,\n",
    "  \"with_data_score_cell\": True,\n",
    "  \"with_data_freq_cell\": True,\n",
    "  \"get_grid_specie\": False,\n",
    "  \"region\": 1,\n",
    "  \"grid_resolution\": 16,\n",
    "  \"with_data_score_decil\": True,\n",
    "  \"target_name\": \"testing_Lynx_rufus\",\n",
    "  \"longitud\": 0,\n",
    "  \"latitud\": 0,\n",
    "  \"iterations\": 5,\n",
    "  \"target_points\": [],\n",
    "  \"covariables\": [\n",
    "    {\n",
    "      \"name\": \"GpoBio1\",\n",
    "      \"biotic\": True,\n",
    "      \"merge_vars\": [\n",
    "        {\n",
    "          \"rank\": \"order\",\n",
    "          \"value\": \"Didelphimorphia\",\n",
    "          \"level\": \"species\"\n",
    "        }\n",
    "      ]\n",
    "    }\n",
    "  ]\n",
    "}"
   ]
  },
  {
   "cell_type": "code",
   "execution_count": 14,
   "metadata": {},
   "outputs": [],
   "source": [
    "res = requests.post(url + '/especie/getGroupValidationTables', json=req).json()\n",
    "validation_table = res['data'][0]['tblname']\n",
    "\n",
    "res_gp = requests.post(url + '/especie/getGivenPointaValidationTables', json=req_gp).json()\n",
    "validation_table_gp = res['data'][0]['tblname']\n",
    "\n",
    "\n",
    "req['idtabla'] = validation_table\n",
    "req_gp['idtabla'] = validation_table_gp"
   ]
  }
 ],
 "metadata": {
  "kernelspec": {
   "display_name": "Python 3",
   "language": "python",
   "name": "python3"
  },
  "language_info": {
   "codemirror_mode": {
    "name": "ipython",
    "version": 3
   },
   "file_extension": ".py",
   "mimetype": "text/x-python",
   "name": "python",
   "nbconvert_exporter": "python",
   "pygments_lexer": "ipython3",
   "version": "3.8.1"
  }
 },
 "nbformat": 4,
 "nbformat_minor": 2
}
