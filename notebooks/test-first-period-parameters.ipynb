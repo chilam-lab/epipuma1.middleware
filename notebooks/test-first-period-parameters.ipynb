{
 "cells": [
  {
   "cell_type": "code",
   "execution_count": 2,
   "metadata": {},
   "outputs": [],
   "source": [
    "import json\n",
    "import requests"
   ]
  },
  {
   "cell_type": "code",
   "execution_count": 13,
   "metadata": {},
   "outputs": [],
   "source": [
    "def get_len_arrays(res):\n",
    "    for key in res.keys():\n",
    "        if type(res[key]) == list:\n",
    "            print(key, len(res[key]))"
   ]
  },
  {
   "cell_type": "code",
   "execution_count": 39,
   "metadata": {},
   "outputs": [],
   "source": [
    "body = '{\"time\":1607552899913,\"grid_resolution\":\"mun\",\"region\":1,\"min_cells\":1,\"idtabla\":\"\",\"iterations\":1,\"fosil\":false,\"date\":false,\"lim_inf\":\"2020-01-01\",\"lim_sup\":\"2020-03-31\",\"get_grid_species\":false,\"apriori\":false,\"mapa_prob\":false,\"with_data_freq\":false,\"with_data_score_cell\":true,\"with_data_freq_cell\":false,\"with_data_score_decil\":true,\"excluded_cells\":[],\"covariables\":[{\"name\":\"GpoBio1\",\"biotic\":true,\"merge_vars\":[{\"rank\":\"kingdom\",\"value\":\"Demográficos\",\"type\":0,\"level\":\"species\"}],\"group_item\":1},{\"name\":\"GpoBio2\",\"biotic\":true,\"merge_vars\":[{\"rank\":\"kingdom\",\"value\":\"Movilidad\",\"type\":0,\"level\":\"species\"}],\"group_item\":2}],\"target_taxons\":[{\"taxon_rank\":\"species\",\"value\":\"COVID-19 CONFIRMADO\"}],\"decil_selected\":[10]}'\n",
    "body = json.loads(body)"
   ]
  },
  {
   "cell_type": "markdown",
   "metadata": {},
   "source": [
    "## Analisis sin moficadores"
   ]
  },
  {
   "cell_type": "code",
   "execution_count": 40,
   "metadata": {},
   "outputs": [],
   "source": [
    "url = 'http://127.0.0.1:8080/niche/countsTaxonsGroupTimeValidation'"
   ]
  },
  {
   "cell_type": "markdown",
   "metadata": {},
   "source": [
    "## Analisis con modificadores"
   ]
  },
  {
   "cell_type": "code",
   "execution_count": 41,
   "metadata": {},
   "outputs": [],
   "source": [
    "url = 'http://127.0.0.1:8080/niche/generateTarget'\n",
    "body['modifier'] = 'cases'"
   ]
  },
  {
   "cell_type": "markdown",
   "metadata": {},
   "source": [
    "### Sin parametros de fecha inicial y final del primer perido"
   ]
  },
  {
   "cell_type": "code",
   "execution_count": 44,
   "metadata": {},
   "outputs": [
    {
     "name": "stdout",
     "output_type": "stream",
     "text": [
      "data 1345\n",
      "data_score_cell 2395\n",
      "data_freq_cell 0\n",
      "data_freq 0\n",
      "percentage_avg 1114\n",
      "decil_cells 244\n",
      "cell_summary 2395\n",
      "time_validation 10\n",
      "training_cells 246\n",
      "validation_data 2212\n",
      "info_cell 1\n"
     ]
    }
   ],
   "source": [
    "res = requests.post(url, json=body).json()\n",
    "get_len_arrays(res)"
   ]
  },
  {
   "cell_type": "markdown",
   "metadata": {},
   "source": [
    "### Sin parametro de fecha final del primer periodo"
   ]
  },
  {
   "cell_type": "code",
   "execution_count": 28,
   "metadata": {},
   "outputs": [],
   "source": [
    "body['lim_inf_first'] = '2020-01-01' \n",
    "body['lim_inf'] = '2020-03-01'\n",
    "body['lim_sup'] = '2020-05-01'"
   ]
  },
  {
   "cell_type": "code",
   "execution_count": 29,
   "metadata": {},
   "outputs": [
    {
     "name": "stdout",
     "output_type": "stream",
     "text": [
      "data 1345\n",
      "data_score_cell 2395\n",
      "data_freq_cell 0\n",
      "data_freq 0\n",
      "percentage_avg 1114\n",
      "decil_cells 244\n",
      "cell_summary 2395\n",
      "time_validation 10\n",
      "training_cells 1098\n",
      "validation_data 2458\n",
      "info_cell 1\n"
     ]
    }
   ],
   "source": [
    "res = requests.post(url, json=body).json()\n",
    "get_len_arrays(res)"
   ]
  },
  {
   "cell_type": "markdown",
   "metadata": {},
   "source": [
    "### Con partametros de primer periodo"
   ]
  },
  {
   "cell_type": "code",
   "execution_count": 30,
   "metadata": {},
   "outputs": [],
   "source": [
    "body['lim_inf_first'] = '2020-01-01'\n",
    "body['lim_sup_first'] = '2020-02-01'\n",
    "body['lim_inf'] = '2020-03-01'\n",
    "body['lim_sup'] = '2020-05-01'"
   ]
  },
  {
   "cell_type": "code",
   "execution_count": 31,
   "metadata": {},
   "outputs": [
    {
     "name": "stdout",
     "output_type": "stream",
     "text": [
      "data 1345\n",
      "data_score_cell 2395\n",
      "data_freq_cell 0\n",
      "data_freq 0\n",
      "percentage_avg 1114\n",
      "decil_cells 244\n",
      "cell_summary 2395\n",
      "time_validation 10\n",
      "training_cells 1098\n",
      "validation_data 2458\n",
      "info_cell 1\n"
     ]
    }
   ],
   "source": [
    "res = requests.post(url, json=body).json()\n",
    "get_len_arrays(res)"
   ]
  },
  {
   "cell_type": "code",
   "execution_count": null,
   "metadata": {},
   "outputs": [],
   "source": []
  }
 ],
 "metadata": {
  "kernelspec": {
   "display_name": "Python 3",
   "language": "python",
   "name": "python3"
  },
  "language_info": {
   "codemirror_mode": {
    "name": "ipython",
    "version": 3
   },
   "file_extension": ".py",
   "mimetype": "text/x-python",
   "name": "python",
   "nbconvert_exporter": "python",
   "pygments_lexer": "ipython3",
   "version": "3.6.9"
  }
 },
 "nbformat": 4,
 "nbformat_minor": 4
}
