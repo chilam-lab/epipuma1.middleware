{
 "cells": [
  {
   "cell_type": "code",
   "execution_count": 2,
   "metadata": {},
   "outputs": [],
   "source": [
    "import json\n",
    "import requests"
   ]
  },
  {
   "cell_type": "code",
   "execution_count": 10,
   "metadata": {},
   "outputs": [],
   "source": [
    "url = 'http://127.0.0.1:8080/niche/countsTaxonsGroupTimeValidation'\n",
    "body = '{\"time\":1611344935612,\"grid_resolution\":\"mun\",\"region\":1,\"min_cells\":1,\"idtabla\":\"\",\"iterations\":1,\"fosil\":false,\"date\":false,\"lim_inf\":\"2020-02-01\",\"lim_sup\":\"2020-03-31\",\"lim_inf\",get_grid_species\":false,\"apriori\":false,\"mapa_prob\":false,\"with_data_freq\":false,\"with_data_score_cell\":true,\"with_data_freq_cell\":false,\"with_data_score_decil\":true,\"excluded_cells\":[],\"covariables\":[{\"name\":\"GpoBio1\",\"biotic\":true,\"merge_vars\":[{\"rank\":\"kingdom\",\"value\":\"Demográficos\",\"type\":0,\"level\":\"species\"}],\"group_item\":1},{\"name\":\"GpoBio2\",\"biotic\":true,\"merge_vars\":[{\"rank\":\"kingdom\",\"value\":\"Movilidad\",\"type\":0,\"level\":\"species\"}],\"group_item\":2}],\"target_taxons\":[{\"taxon_rank\":\"species\",\"value\":\"COVID-19 CONFIRMADO\"}],\"decil_selected\":[10]}'\n",
    "body = json.loads(body)"
   ]
  },
  {
   "cell_type": "code",
   "execution_count": 27,
   "metadata": {},
   "outputs": [],
   "source": [
    "body['lim_inf_validation'] = '2020-04-01'\n",
    "body['lim_sup_validation'] = '2020-04-15'"
   ]
  },
  {
   "cell_type": "code",
   "execution_count": 28,
   "metadata": {},
   "outputs": [],
   "source": [
    "res = requests.post(url, json=body)\n",
    "res = res.json()"
   ]
  },
  {
   "cell_type": "code",
   "execution_count": 29,
   "metadata": {},
   "outputs": [
    {
     "data": {
      "text/plain": [
       "[{'decil': 10,\n",
       "  'vp': 204,\n",
       "  'fn': 1833,\n",
       "  'null': 0,\n",
       "  'recall': 0.10014727540500737,\n",
       "  'vvp': 94,\n",
       "  'vfn': 223,\n",
       "  'vrecall': 0.29652996845425866},\n",
       " {'decil': 9,\n",
       "  'vp': 408,\n",
       "  'fn': 1629,\n",
       "  'null': 0,\n",
       "  'recall': 0.20029455081001474,\n",
       "  'vvp': 156,\n",
       "  'vfn': 161,\n",
       "  'vrecall': 0.4921135646687697},\n",
       " {'decil': 8,\n",
       "  'vp': 612,\n",
       "  'fn': 1425,\n",
       "  'null': 0,\n",
       "  'recall': 0.3004418262150221,\n",
       "  'vvp': 200,\n",
       "  'vfn': 117,\n",
       "  'vrecall': 0.6309148264984227},\n",
       " {'decil': 7,\n",
       "  'vp': 815,\n",
       "  'fn': 1222,\n",
       "  'null': 0,\n",
       "  'recall': 0.40009818360333826,\n",
       "  'vvp': 235,\n",
       "  'vfn': 82,\n",
       "  'vrecall': 0.7413249211356467},\n",
       " {'decil': 6,\n",
       "  'vp': 1019,\n",
       "  'fn': 1018,\n",
       "  'null': 0,\n",
       "  'recall': 0.5002454590083456,\n",
       "  'vvp': 259,\n",
       "  'vfn': 58,\n",
       "  'vrecall': 0.8170347003154574},\n",
       " {'decil': 5,\n",
       "  'vp': 1223,\n",
       "  'fn': 814,\n",
       "  'null': 0,\n",
       "  'recall': 0.600392734413353,\n",
       "  'vvp': 281,\n",
       "  'vfn': 36,\n",
       "  'vrecall': 0.886435331230284},\n",
       " {'decil': 4,\n",
       "  'vp': 1426,\n",
       "  'fn': 611,\n",
       "  'null': 0,\n",
       "  'recall': 0.7000490918016691,\n",
       "  'vvp': 293,\n",
       "  'vfn': 24,\n",
       "  'vrecall': 0.9242902208201893},\n",
       " {'decil': 3,\n",
       "  'vp': 1630,\n",
       "  'fn': 407,\n",
       "  'null': 0,\n",
       "  'recall': 0.8001963672066765,\n",
       "  'vvp': 305,\n",
       "  'vfn': 12,\n",
       "  'vrecall': 0.9621451104100947},\n",
       " {'decil': 2,\n",
       "  'vp': 1834,\n",
       "  'fn': 203,\n",
       "  'null': 0,\n",
       "  'recall': 0.9003436426116839,\n",
       "  'vvp': 316,\n",
       "  'vfn': 1,\n",
       "  'vrecall': 0.9968454258675079},\n",
       " {'decil': 1,\n",
       "  'vp': 2037,\n",
       "  'fn': 0,\n",
       "  'null': 0,\n",
       "  'recall': 1,\n",
       "  'vvp': 317,\n",
       "  'vfn': 0,\n",
       "  'vrecall': 1}]"
      ]
     },
     "execution_count": 29,
     "metadata": {},
     "output_type": "execute_result"
    }
   ],
   "source": [
    "res['time_validation']"
   ]
  },
  {
   "cell_type": "code",
   "execution_count": null,
   "metadata": {},
   "outputs": [],
   "source": []
  }
 ],
 "metadata": {
  "kernelspec": {
   "display_name": "Python 3",
   "language": "python",
   "name": "python3"
  },
  "language_info": {
   "codemirror_mode": {
    "name": "ipython",
    "version": 3
   },
   "file_extension": ".py",
   "mimetype": "text/x-python",
   "name": "python",
   "nbconvert_exporter": "python",
   "pygments_lexer": "ipython3",
   "version": "3.6.9"
  }
 },
 "nbformat": 4,
 "nbformat_minor": 4
}
